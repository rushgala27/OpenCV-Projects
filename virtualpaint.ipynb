{
 "cells": [
  {
   "cell_type": "code",
   "execution_count": 1,
   "metadata": {},
   "outputs": [],
   "source": [
    "import cv2\n",
    "import numpy as np\n",
    "\n",
    "cap = cv2.VideoCapture(0)\n",
    "cap.set(3,640)\n",
    "cap.set(4,480)\n",
    "cap.set(10,150)\n",
    "\n",
    "myColors = [[6,95,219,17,195,255],\n",
    "            [33,81,187,81,250,255],\n",
    "            [36,144,173,117,255,255],\n",
    "            [16,77,192,39,211,255]]\n",
    "\n",
    "myColorValues = [[51,153,255],[0,255,0],[255,0,0],[0,255,255]]        #BGR not RGB\n",
    "\n",
    "myPoints =  []         # [x,y,colorId]\n",
    "\n",
    "def findColor(img,myColors,myColorValues):\n",
    "    imgHSV = cv2.cvtColor(img,cv2.COLOR_BGR2HSV)\n",
    "    count = 0\n",
    "    newPoints = []\n",
    "    for color in myColors:\n",
    "        lower = np.array(color[0:3])\n",
    "        upper = np.array(color[3:6])\n",
    "        mask = cv2.inRange(imgHSV,lower,upper)\n",
    "        x,y = getContours(mask)\n",
    "        cv2.circle(imgres,(x,y),7,myColorValues[count],cv2.FILLED)\n",
    "        if x!=0 and y!=0:\n",
    "            newPoints.append([x,y,count])\n",
    "        count = count + 1\n",
    "        # cv2.imshow(str(color[3]),mask)\\\n",
    "    return newPoints\n",
    "        \n",
    "\n",
    "\n",
    "def getContours(img):\n",
    "    contours,hierarchy = cv2.findContours(img,cv2.RETR_EXTERNAL,cv2.CHAIN_APPROX_NONE)\n",
    "    x,y,w,h = 0,0,0,0\n",
    "    for cnt in contours:\n",
    "        area = cv2.contourArea(cnt)\n",
    "        if area>500:\n",
    "            # cv2.drawContours(imgres,cnt,-1,(255,0,0),3)\n",
    "            peri = cv2.arcLength(cnt,True)\n",
    "            approx = cv2.approxPolyDP(cnt,0.02*peri,True)\n",
    "            x,y,w,h = cv2.boundingRect(approx)\n",
    "    return x+w//2,y\n",
    "\n",
    "def drawOnCanvas(myPoints,myColorValues):\n",
    "    for point in myPoints:\n",
    "        cv2.circle(imgres,(point[0],point[1]),7,myColorValues[point[2]],cv2.FILLED)\n",
    "\n",
    "while True:\n",
    "    success,img = cap.read()\n",
    "    imgres = img.copy()\n",
    "    cv2.imshow(\"Video\",img)\n",
    "    newPoints = findColor(img,myColors,myColorValues)\n",
    "    if(len(newPoints)!=0):\n",
    "        for newP in newPoints:\n",
    "            myPoints.append(newP)\n",
    "    if(len(myPoints)!=0):\n",
    "        drawOnCanvas(myPoints,myColorValues)\n",
    "    cv2.imshow(\"Res\",imgres)\n",
    "    key = cv2.waitKey(1) & 0xFF\n",
    "    if key==ord('q'):\n",
    "        break\n",
    "\n",
    "cap.release()\n",
    "cv2.destroyAllWindows()"
   ]
  }
 ],
 "metadata": {
  "kernelspec": {
   "display_name": "Python 3.7.9 64-bit (microsoft store)",
   "language": "python",
   "name": "python3"
  },
  "language_info": {
   "codemirror_mode": {
    "name": "ipython",
    "version": 3
   },
   "file_extension": ".py",
   "mimetype": "text/x-python",
   "name": "python",
   "nbconvert_exporter": "python",
   "pygments_lexer": "ipython3",
   "version": "3.7.9"
  },
  "orig_nbformat": 4,
  "vscode": {
   "interpreter": {
    "hash": "edb0d1ad0ff655c9ac0b12bdca16315991a94b1f6ef75f9262390e6df6500fba"
   }
  }
 },
 "nbformat": 4,
 "nbformat_minor": 2
}

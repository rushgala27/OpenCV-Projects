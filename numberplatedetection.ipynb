{
 "cells": [
  {
   "cell_type": "code",
   "execution_count": 1,
   "metadata": {},
   "outputs": [],
   "source": [
    "import cv2\n",
    "\n",
    "widthImg = 600\n",
    "heightImg = 500\n",
    "minArea = 500\n",
    "color = (255,0,255)\n",
    "count = 0\n",
    "\n",
    "nPlateCascade = cv2.CascadeClassifier(cv2.data.haarcascades + \"haarcascade_russian_plate_number.xml\")\n",
    "\n",
    "while True:\n",
    "    img = cv2.imread(\"images/numberplate3.jpg\")\n",
    "    img = cv2.resize(img,(widthImg,heightImg))\n",
    "    imgGray = cv2.cvtColor(img,cv2.COLOR_BGR2GRAY)\n",
    "\n",
    "    numberPlates = nPlateCascade.detectMultiScale(imgGray,1.2,3)\n",
    "\n",
    "    for (x,y,w,h) in numberPlates:\n",
    "        area = w*h\n",
    "        if(area>minArea):\n",
    "            cv2.rectangle(img,(x,y),(x+w,y+h),(255,0,255),2)\n",
    "            cv2.putText(img,\"Number Plate\",(x,y-5),cv2.FONT_HERSHEY_COMPLEX_SMALL,1,color,2)\n",
    "            imgRoi = img[y:y+h,x:x+w]\n",
    "            cv2.imshow(\"ROI\",imgRoi)\n",
    "\n",
    "\n",
    "    cv2.imshow(\"Original Image\",img)\n",
    "    key = cv2.waitKey(1) & 0xFF\n",
    "    if key==ord('s'):\n",
    "        cv2.imwrite(\"NumPlate\"+str(count)+\".jpg\",imgRoi)\n",
    "        cv2.rectangle(img,(0,200),(640,300),(0,255,0),cv2.FILLED)\n",
    "        cv2.putText(img,\"Scan Saved\",(150,265),cv2.FONT_HERSHEY_COMPLEX,2,(0,0,255),2)\n",
    "        cv2.imshow(\"Original Image\",img)\n",
    "        cv2.waitKey(500)\n",
    "        count+=1\n",
    "\n",
    "    if key==ord('q'):\n",
    "        break\n",
    "\n",
    "cv2.destroyAllWindows()"
   ]
  }
 ],
 "metadata": {
  "kernelspec": {
   "display_name": "Python 3.7.9 64-bit (microsoft store)",
   "language": "python",
   "name": "python3"
  },
  "language_info": {
   "codemirror_mode": {
    "name": "ipython",
    "version": 3
   },
   "file_extension": ".py",
   "mimetype": "text/x-python",
   "name": "python",
   "nbconvert_exporter": "python",
   "pygments_lexer": "ipython3",
   "version": "3.7.9"
  },
  "orig_nbformat": 4,
  "vscode": {
   "interpreter": {
    "hash": "edb0d1ad0ff655c9ac0b12bdca16315991a94b1f6ef75f9262390e6df6500fba"
   }
  }
 },
 "nbformat": 4,
 "nbformat_minor": 2
}
